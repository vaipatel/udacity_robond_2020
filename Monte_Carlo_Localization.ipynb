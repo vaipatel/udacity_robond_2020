{
  "nbformat": 4,
  "nbformat_minor": 0,
  "metadata": {
    "colab": {
      "name": "Monte_Carlo_Localization.ipynb",
      "provenance": [],
      "collapsed_sections": [],
      "authorship_tag": "ABX9TyM5jeatyYksIdobELF+8AFp",
      "include_colab_link": true
    },
    "kernelspec": {
      "name": "python3",
      "display_name": "Python 3"
    }
  },
  "cells": [
    {
      "cell_type": "markdown",
      "metadata": {
        "id": "view-in-github",
        "colab_type": "text"
      },
      "source": [
        "<a href=\"https://colab.research.google.com/github/vaipatel/udacity_robond_2020/blob/master/Monte_Carlo_Localization.ipynb\" target=\"_parent\"><img src=\"https://colab.research.google.com/assets/colab-badge.svg\" alt=\"Open In Colab\"/></a>"
      ]
    },
    {
      "cell_type": "code",
      "metadata": {
        "id": "cvameD5BGkJo",
        "colab_type": "code",
        "colab": {}
      },
      "source": [
        "%matplotlib inline\n",
        "import numpy as np\n",
        "import matplotlib.pyplot as plt\n",
        "import scipy.stats\n",
        "\n",
        "np.random.seed(1234);"
      ],
      "execution_count": 0,
      "outputs": []
    },
    {
      "cell_type": "code",
      "metadata": {
        "id": "_cB32CPUG3r3",
        "colab_type": "code",
        "colab": {}
      },
      "source": [
        "class Robot():\n",
        "  \"\"\"A Robot that can noisy move, noise sense distances to 8 lmks around the \n",
        "  world, store its trajectory, and calculate the likelihood of a measurement\n",
        "  given the current pose state.\"\"\"\n",
        "\n",
        "  def __init__(self, world_size=2):\n",
        "    self.world_size = world_size\n",
        "    # Util\n",
        "    self.twopi = 2*np.pi\n",
        "    # Loc, Orient\n",
        "    self.x = np.random.rand()*world_size\n",
        "    self.y = np.random.rand()*world_size\n",
        "    self.orient = np.random.rand()*(self.twopi)\n",
        "    # Noise\n",
        "    self.sensor_noise = 0\n",
        "    self.forward_noise = 0\n",
        "    self.turn_noise = 0\n",
        "    # Create lmks\n",
        "    self.n_lmks = 8\n",
        "    self.lmks = self._gen_lmks(0.8)\n",
        "    self.traj = [self.exact_loc()]\n",
        "\n",
        "  def set_noise(self, sensor_noise=1, forward_noise=0.5, turn_noise=0.05):\n",
        "    \"\"\"Sets noise std dev levels for measurement and motion.\"\"\"\n",
        "    self.sensor_noise = sensor_noise\n",
        "    self.forward_noise = forward_noise\n",
        "    self.turn_noise = turn_noise\n",
        "\n",
        "  def move(self, angle, fwd):\n",
        "    \"\"\"Performs noisy move (turn and forward) on the robot.\"\"\"\n",
        "    if (fwd < 0):\n",
        "      raise ValueError(\"fwd must be non-negative.\")\n",
        "    angle = (angle + np.random.randn()*self.turn_noise) % (self.twopi)\n",
        "    self.orient = (self.orient + angle) % (self.twopi)\n",
        "    fwd = fwd + np.random.randn()*self.forward_noise\n",
        "    self.x = np.mod((self.x + fwd*np.cos(self.orient)), self.world_size)\n",
        "    self.y = np.mod((self.y + fwd*np.sin(self.orient)), self.world_size)\n",
        "    # Add to traj\n",
        "    self.traj.append(self.exact_loc())\n",
        "\n",
        "  def sense_perfect(self):\n",
        "    \"\"\"Performs noiseless measurement.\"\"\"\n",
        "    return np.sqrt(np.sum(np.square(self.exact_loc() - self.lmks), axis=1))\n",
        "\n",
        "  def sense(self):\n",
        "    \"\"\"Performs a noisy measurement. Intuitively, this can only arrive via \n",
        "       actual sensor. So, for eg, a virtual particle should never call sense().\n",
        "    \"\"\"\n",
        "    dists = self.sense_perfect()\n",
        "    dists = dists + np.random.randn(self.n_lmks)*self.sensor_noise\n",
        "    return dists\n",
        "\n",
        "  def measurement_prob(self, z):\n",
        "    \"\"\"Calculates p(z|x,y), the likelihood of a measurement z given the loc\n",
        "       state (x,y).\"\"\"\n",
        "    pdfs = scipy.stats.norm(loc=self.sense_perfect(), scale=self.sensor_noise).pdf(z)\n",
        "    return np.prod(pdfs)\n",
        "\n",
        "  def exact_loc(self):\n",
        "    \"\"\"Returns the exact location. This can be used in noiseless calculations,\n",
        "       like sense_perfect() or print_pose().\"\"\"\n",
        "    return np.array([self.x, self.y])\n",
        "\n",
        "  def exact_traj(self):\n",
        "    \"\"\"Returns exact trajectory\"\"\"\n",
        "    return np.array(self.traj)\n",
        "\n",
        "  def print_pose(self):\n",
        "    \"\"\"Prints current pose info. Of course print_pose() is noiseless.\"\"\"\n",
        "    print(\"(x,y):\", self.exact_loc(), \"ang_deg:\", np.rad2deg(self.orient))\n",
        "\n",
        "  def _gen_lmks(self, lmks_scale=0.8):\n",
        "    \"\"\"Generates 8 landmarks around the world and brings them in by lmks_scale.\n",
        "    \"\"\"\n",
        "    w = self.world_size\n",
        "    lmks = np.array([(0,0), (0.5*w, 0), (w, 0), (w, 0.5*w), (w, w), (0.5*w, w), (0, w), (0, 0.5*w)])\n",
        "    lmks = (lmks - np.mean(lmks))*lmks_scale + np.array([w,w])*0.5\n",
        "    return lmks\n",
        "\n",
        "  def plot_traj(self, fig, ax, init_col='ro', arrow_col='black'):\n",
        "    \"\"\"Plots robot traj.\"\"\"\n",
        "    plt.plot(self.traj[0][0], self.traj[0][1], init_col)\n",
        "    for i in range(1, len(self.traj)):\n",
        "      delta_loc = self.traj[i] - self.traj[i - 1]\n",
        "      plt.arrow(self.traj[i-1][0], self.traj[i-1][1], delta_loc[0], delta_loc[1], head_width=0.2, color=arrow_col)\n",
        "      # plt.plot(self.traj[i][0], self.traj[i][1], 'ro')\n",
        "    plt.axis([0, self.world_size, 0, self.world_size])\n",
        "    ax.set_aspect('equal')\n",
        "    fig.tight_layout()#([0, WORLD_SIZE, 0, WORLD_SIZE])\n",
        "\n",
        "  def _gauss_pdf(self, mu, sigma, x):\n",
        "    \"\"\"Calculates p(x) where p ~ N(mu,sigma), or equivalently N(x|mu,sigma).\"\"\"\n",
        "    return scipy.stats.norm(loc=mu, scale=sigma).pdf(x)\n",
        "    #return np.exp( - np.square(x - mu) / 2*np.square(sigma) )/(sigma * np.sqrt(2 * np.pi))"
      ],
      "execution_count": 0,
      "outputs": []
    },
    {
      "cell_type": "code",
      "metadata": {
        "id": "R5lkzjd5K-zf",
        "colab_type": "code",
        "colab": {}
      },
      "source": [
        "WORLD_SIZE = 10\n",
        "INIT_MOVE_ANGLE = np.pi*0.5\n",
        "INIT_MOVE_FWD = 0.5\n",
        "\n",
        "ROBOT_SENSOR_NOISE = 5\n",
        "ROBOT_FWD_NOISE = 2\n",
        "ROBOT_TURN_NOISE = 0.1\n",
        "\n",
        "NUM_PARTICLES = 10\n",
        "\n",
        "PARTICLE_SENSOR_NOISE = 5\n",
        "PARTICLE_FWD_NOISE = 0.05\n",
        "PARTICLE_TURN_NOISE = 0.05"
      ],
      "execution_count": 0,
      "outputs": []
    },
    {
      "cell_type": "code",
      "metadata": {
        "id": "I6M4FxmNLArD",
        "colab_type": "code",
        "colab": {}
      },
      "source": [
        "robot = Robot(WORLD_SIZE)\n",
        "robot.set_noise(sensor_noise=ROBOT_SENSOR_NOISE,\n",
        "                forward_noise=ROBOT_FWD_NOISE,\n",
        "                turn_noise=ROBOT_TURN_NOISE)\n",
        "robot.move(angle=INIT_MOVE_ANGLE, fwd=INIT_MOVE_FWD)"
      ],
      "execution_count": 0,
      "outputs": []
    },
    {
      "cell_type": "code",
      "metadata": {
        "id": "cLURPrSCMXnX",
        "colab_type": "code",
        "colab": {
          "base_uri": "https://localhost:8080/",
          "height": 297
        },
        "outputId": "5c23c3a9-3d06-45aa-c1ff-8fa86221b866"
      },
      "source": [
        "fig, ax = plt.subplots(1,1)\n",
        "plt.plot(robot.lmks[:,0], robot.lmks[:,1], 'bo')\n",
        "robot.plot_traj(fig, ax)"
      ],
      "execution_count": 112,
      "outputs": [
        {
          "output_type": "display_data",
          "data": {
            "image/png": "[encoded data removed]",
            "text/plain": [
              "<Figure size 432x288 with 1 Axes>"
            ]
          },
          "metadata": {
            "tags": []
          }
        }
      ]
    },
    {
      "cell_type": "code",
      "metadata": {
        "id": "BxJbt4pQPo6k",
        "colab_type": "code",
        "colab": {}
      },
      "source": [
        "particles = [Robot(world_size=WORLD_SIZE) for i in range(NUM_PARTICLES)]\n",
        "for particle in particles:\n",
        "  particle.set_noise(sensor_noise=PARTICLE_SENSOR_NOISE,\n",
        "                     forward_noise=PARTICLE_FWD_NOISE,\n",
        "                     turn_noise=PARTICLE_TURN_NOISE)\n",
        "  particle.move(angle=INIT_MOVE_ANGLE, fwd=INIT_MOVE_FWD)"
      ],
      "execution_count": 0,
      "outputs": []
    },
    {
      "cell_type": "code",
      "metadata": {
        "id": "WZPE2LzXeYT8",
        "colab_type": "code",
        "colab": {
          "base_uri": "https://localhost:8080/",
          "height": 297
        },
        "outputId": "ca38a381-8594-4558-977c-ff72f9d70655"
      },
      "source": [
        "fig, ax = plt.subplots(1,1)\n",
        "plt.plot(robot.lmks[:,0], robot.lmks[:,1], 'bo')\n",
        "robot.plot_traj(fig, ax)\n",
        "for particle in particles:\n",
        "  particle.plot_traj(fig, ax, init_col='mo', arrow_col='grey')"
      ],
      "execution_count": 120,
      "outputs": [
        {
          "output_type": "display_data",
          "data": {
            "image/png": "[encoded data removed]",
            "text/plain": [
              "<Figure size 432x288 with 1 Axes>"
            ]
          },
          "metadata": {
            "tags": []
          }
        }
      ]
    },
    {
      "cell_type": "code",
      "metadata": {
        "id": "0vbv-Czv1Pyw",
        "colab_type": "code",
        "colab": {
          "base_uri": "https://localhost:8080/",
          "height": 187
        },
        "outputId": "3b527f64-780a-48b6-ebd2-7eec4faf103f"
      },
      "source": [
        "[particle.measurement_prob(robot.sense()) for particle in particles]"
      ],
      "execution_count": 118,
      "outputs": [
        {
          "output_type": "execute_result",
          "data": {
            "text/plain": [
              "[1.4411512353849538e-13,\n",
              " 1.4138259313184563e-11,\n",
              " 3.539914244050494e-11,\n",
              " 1.0736892801945451e-10,\n",
              " 5.446915752875693e-12,\n",
              " 1.3847959911951956e-10,\n",
              " 1.194853910511828e-10,\n",
              " 2.040485337090033e-12,\n",
              " 9.390216490159936e-15,\n",
              " 7.635670359413245e-12]"
            ]
          },
          "metadata": {
            "tags": []
          },
          "execution_count": 118
        }
      ]
    },
    {
      "cell_type": "code",
      "metadata": {
        "id": "qzEczFHT7mtn",
        "colab_type": "code",
        "colab": {}
      },
      "source": [
        ""
      ],
      "execution_count": 0,
      "outputs": []
    },
    {
      "cell_type": "code",
      "metadata": {
        "id": "GePcv7rm_NbB",
        "colab_type": "code",
        "colab": {}
      },
      "source": [
        ""
      ],
      "execution_count": 0,
      "outputs": []
    }
  ]
}